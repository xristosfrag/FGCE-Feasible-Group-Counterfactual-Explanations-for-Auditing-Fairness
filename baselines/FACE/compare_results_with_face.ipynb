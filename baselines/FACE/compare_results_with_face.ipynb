{
 "cells": [
  {
   "cell_type": "code",
   "execution_count": 1,
   "metadata": {},
   "outputs": [
    {
     "name": "stderr",
     "output_type": "stream",
     "text": [
      "2024-08-12 23:22:31.195294: E external/local_xla/xla/stream_executor/cuda/cuda_dnn.cc:9261] Unable to register cuDNN factory: Attempting to register factory for plugin cuDNN when one has already been registered\n",
      "2024-08-12 23:22:31.195317: E external/local_xla/xla/stream_executor/cuda/cuda_fft.cc:607] Unable to register cuFFT factory: Attempting to register factory for plugin cuFFT when one has already been registered\n",
      "2024-08-12 23:22:31.196182: E external/local_xla/xla/stream_executor/cuda/cuda_blas.cc:1515] Unable to register cuBLAS factory: Attempting to register factory for plugin cuBLAS when one has already been registered\n",
      "2024-08-12 23:22:31.200350: I tensorflow/core/platform/cpu_feature_guard.cc:182] This TensorFlow binary is optimized to use available CPU instructions in performance-critical operations.\n",
      "To enable the following instructions: AVX2 FMA, in other operations, rebuild TensorFlow with the appropriate compiler flags.\n",
      "2024-08-12 23:22:31.731649: W tensorflow/compiler/tf2tensorrt/utils/py_utils.cc:38] TF-TRT Warning: Could not find TensorRT\n"
     ]
    }
   ],
   "source": [
    "import sys\n",
    "import os\n",
    "\n",
    "def get_FGCE_Directory():\n",
    "    \"\"\"Get the path of the 'FGCE-Feasible-Group-Counterfactual-Explanations-for-Auditing-Fairness' directory.\"\"\"\n",
    "    current_dir = os.getcwd()\n",
    "    target_dir = 'FGCE-Feasible-Group-Counterfactual-Explanations-for-Auditing-Fairness'\n",
    "    \n",
    "    while os.path.basename(current_dir) != target_dir:\n",
    "        current_dir = os.path.dirname(current_dir)\n",
    "        if current_dir == os.path.dirname(current_dir):\n",
    "            return None\n",
    "        \n",
    "    return current_dir\n",
    "\n",
    "def get_system_slash():\n",
    "    \"\"\"Get the system-specific directory separator.\"\"\"\n",
    "    return os.sep\n",
    "\n",
    "FGCE_DIR = get_FGCE_Directory()\n",
    "sys.path.append(FGCE_DIR)\n",
    "sep = get_system_slash()\n",
    "sys.path.append(FGCE_DIR + get_system_slash() + 'src')\n",
    "from main import *"
   ]
  },
  {
   "cell_type": "code",
   "execution_count": 2,
   "metadata": {},
   "outputs": [],
   "source": [
    "import matplotlib.pyplot as plt\n",
    "plt.rcParams['axes.titlesize'] = 16\n",
    "plt.rcParams['axes.labelsize'] = 16\n",
    "plt.rcParams['xtick.labelsize'] = 16\n",
    "plt.rcParams['ytick.labelsize'] = 16\n",
    "plt.rcParams['legend.fontsize'] = 14\n",
    "\n",
    "def plot(datasetName, face_dists, gfce_dists, face_wij, gfce_wij, d_method, max_d, show_legends=True):\n",
    "    fig, ax1 = plt.subplots()\n",
    "\n",
    "    # Adjust the x values slightly to avoid overlap\n",
    "    x_values = range(1, len(face_wij)+1)\n",
    "    x_values_offset = [x + 0.1 for x in x_values]\n",
    "\n",
    "    ax1.plot(x_values, face_wij, '-o', color='green', label=\"FACE Wij Distance\", alpha=0.7)\n",
    "    ax1.plot(x_values_offset, gfce_wij, '-o', color='blue', label=\"FGCE Wij Distance\", alpha=0.7)\n",
    "    ax1.set_xlabel(\"k\")\n",
    "    ax1.set_ylabel(\"Avg Wij Distance\")\n",
    "    ax1.set_xticks(range(1, len(face_wij)+1))\n",
    "\n",
    "    ax2 = ax1.twinx()\n",
    "\n",
    "    ax2.plot(x_values, face_dists, '-o', label=\"FACE Vector Distances\", alpha=0.7)\n",
    "    ax2.plot(x_values_offset, gfce_dists, '-o', label=\"FGCE Vector Distances\", alpha=0.7)\n",
    "    ax2.set_ylabel(\"Avg Vector Distance\")\n",
    "\n",
    "    if show_legends:\n",
    "        handles1, labels1 = ax1.get_legend_handles_labels()\n",
    "        handles2, labels2 = ax2.get_legend_handles_labels()\n",
    "        handles = handles1 + handles2\n",
    "        labels = labels1 + labels2\n",
    "        ax1.legend(handles, labels, loc='lower right')\n",
    "\n",
    "    plt.tight_layout()\n",
    "    fig_size = (6, 4) \n",
    "    plt.gcf().set_size_inches(fig_size)\n",
    "    plt.savefig(f\"{FGCE_DIR}/tmp/{datasetName}/figs/Coverage_constrained_face_gface_comparison_d_method_{d_method}_maxd_{max_d}_normalized.pdf\")\n",
    "\n",
    "    plt.show()"
   ]
  },
  {
   "cell_type": "markdown",
   "metadata": {},
   "source": [
    "# Student dataset"
   ]
  },
  {
   "cell_type": "code",
   "execution_count": null,
   "metadata": {},
   "outputs": [],
   "source": [
    "face_dists = []\n",
    "face_wij = []\n",
    "gfce_dists = []\n",
    "gfce_wij = []\n",
    "datasetName = \"Student\"\n",
    "max_d = 1000000000\n",
    "for k in range(1, 6, 1):\n",
    "    print(f\"Running for {k}th time\")\n",
    "\n",
    "    results, data_np, attr_col_mapping, data_df_copy, face_vector_distances, gfce_vector_distances, face_wij_distances, gfce_wij_distances = main_coverage_constrained_GCFEs(epsilon=3, tp=0.6, td=0.001,\n",
    "                            datasetName=datasetName, group_identifier='sex',\n",
    "                            classifier='lr', compare_with_Face= True,\n",
    "                            skip_model_training=True, skip_graph_creation=True, skip_gcfe_calculation=False,\n",
    "                            k=k, max_d = max_d, cost_function=\"max_path_cost\")\n",
    "\n",
    "    if face_vector_distances == None:\n",
    "        continue\n",
    "    face_dists.append(face_vector_distances)\n",
    "    gfce_dists.append(gfce_vector_distances)\n",
    "    face_wij.append(face_wij_distances)\n",
    "    gfce_wij.append(gfce_wij_distances)"
   ]
  },
  {
   "cell_type": "code",
   "execution_count": null,
   "metadata": {},
   "outputs": [
    {
     "data": {
      "image/png": "[encoded data removed]",
      "text/plain": [
       "<Figure size 432x288 with 2 Axes>"
      ]
     },
     "metadata": {},
     "output_type": "display_data"
    }
   ],
   "source": [
    "plot(datasetName, face_dists, gfce_dists, face_wij, gfce_wij, \"max_path_cost\", max_d, show_legends=False)"
   ]
  },
  {
   "cell_type": "markdown",
   "metadata": {},
   "source": [
    "Similar comparison with other datasets can be done by changing the `datasetName` and `group_identifier` variables."
   ]
  }
 ],
 "metadata": {
  "kernelspec": {
   "display_name": "Python 3",
   "language": "python",
   "name": "python3"
  },
  "language_info": {
   "codemirror_mode": {
    "name": "ipython",
    "version": 3
   },
   "file_extension": ".py",
   "mimetype": "text/x-python",
   "name": "python",
   "nbconvert_exporter": "python",
   "pygments_lexer": "ipython3",
   "version": "3.10.12"
  }
 },
 "nbformat": 4,
 "nbformat_minor": 2
}
