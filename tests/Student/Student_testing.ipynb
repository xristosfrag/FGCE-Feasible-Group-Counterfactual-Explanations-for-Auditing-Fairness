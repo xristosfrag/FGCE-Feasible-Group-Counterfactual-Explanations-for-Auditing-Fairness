{
 "cells": [
  {
   "cell_type": "code",
   "execution_count": 1,
   "metadata": {},
   "outputs": [
    {
     "name": "stderr",
     "output_type": "stream",
     "text": [
      "2024-08-12 15:11:38.150022: E external/local_xla/xla/stream_executor/cuda/cuda_fft.cc:485] Unable to register cuFFT factory: Attempting to register factory for plugin cuFFT when one has already been registered\n",
      "2024-08-12 15:11:38.160856: E external/local_xla/xla/stream_executor/cuda/cuda_dnn.cc:8454] Unable to register cuDNN factory: Attempting to register factory for plugin cuDNN when one has already been registered\n",
      "2024-08-12 15:11:38.164156: E external/local_xla/xla/stream_executor/cuda/cuda_blas.cc:1452] Unable to register cuBLAS factory: Attempting to register factory for plugin cuBLAS when one has already been registered\n",
      "2024-08-12 15:11:38.172944: I tensorflow/core/platform/cpu_feature_guard.cc:210] This TensorFlow binary is optimized to use available CPU instructions in performance-critical operations.\n",
      "To enable the following instructions: AVX2 FMA, in other operations, rebuild TensorFlow with the appropriate compiler flags.\n",
      "2024-08-12 15:11:38.736139: W tensorflow/compiler/tf2tensorrt/utils/py_utils.cc:38] TF-TRT Warning: Could not find TensorRT\n"
     ]
    }
   ],
   "source": [
    "import sys\n",
    "import os\n",
    "\n",
    "def get_FGCE_Directory():\n",
    "    \"\"\"Get the path of the 'FGCE' directory.\"\"\"\n",
    "    current_dir = os.getcwd()\n",
    "    while os.path.basename(current_dir) != 'FGCE':      \n",
    "        current_dir = os.path.dirname(current_dir)\n",
    "        if current_dir == os.path.dirname(current_dir):\n",
    "            return None\n",
    "    return current_dir\n",
    "\n",
    "def get_path_separator():\n",
    "    \"\"\"Get the system-specific directory separator.\"\"\"\n",
    "    return os.sep\n",
    "\n",
    "FGCE_DIR = get_FGCE_Directory()\n",
    "sys.path.append(FGCE_DIR)\n",
    "sep = get_path_separator()\n",
    "\n",
    "from main import *"
   ]
  },
  {
   "cell_type": "markdown",
   "metadata": {},
   "source": [
    "# Decide Epsilon parameter"
   ]
  },
  {
   "cell_type": "code",
   "execution_count": 15,
   "metadata": {},
   "outputs": [
    {
     "name": "stdout",
     "output_type": "stream",
     "text": [
      "Loading classifier from file ...\n",
      "Max distance in the dataset: 5\n",
      "Processing epsilon: 0.1\n",
      "Calculating bandwidth for Student...\n",
      "Bandwidth: 0.09317241379310345\n",
      "Fitting kernel...\n",
      "Loading distances from file ...\n",
      "Max possible distance considered in graph: 0.09375\n",
      "{'strongly_connected_components': 648, 'weakly_connected_components': 648, 'Percentage_of_connected_nodes': 0.30816640986132515, 'Density': 0.0004755654473168597} \n",
      "\n",
      "Processing epsilon: 0.7\n",
      "Calculating bandwidth for Student...\n",
      "Bandwidth: 0.09317241379310345\n",
      "Fitting kernel...\n",
      "Loading distances from file ...\n",
      "Max possible distance considered in graph: 0.25\n",
      "{'strongly_connected_components': 647, 'weakly_connected_components': 646, 'Percentage_of_connected_nodes': 0.9244992295839755, 'Density': 0.0011889136182921495} \n",
      "\n",
      "Processing epsilon: 1.3\n",
      "Calculating bandwidth for Student...\n",
      "Bandwidth: 0.09317241379310345\n",
      "Fitting kernel...\n",
      "Loading distances from file ...\n",
      "Max possible distance considered in graph: 1.2692955176439846\n",
      "{'strongly_connected_components': 647, 'weakly_connected_components': 630, 'Percentage_of_connected_nodes': 5.855161787365177, 'Density': 0.004993437196827027} \n",
      "\n",
      "Processing epsilon: 1.8\n",
      "Calculating bandwidth for Student...\n",
      "Bandwidth: 0.09317241379310345\n",
      "Fitting kernel...\n",
      "Loading distances from file ...\n",
      "Max possible distance considered in graph: 1.7989194287435752\n",
      "{'strongly_connected_components': 642, 'weakly_connected_components': 544, 'Percentage_of_connected_nodes': 23.26656394453005, 'Density': 0.027345013220719437} \n",
      "\n",
      "Processing epsilon: 2.4\n",
      "Calculating bandwidth for Student...\n",
      "Bandwidth: 0.09317241379310345\n",
      "Fitting kernel...\n",
      "Loading distances from file ...\n",
      "Max possible distance considered in graph: 2.39982291308595\n",
      "{'strongly_connected_components': 616, 'weakly_connected_components': 124, 'Percentage_of_connected_nodes': 81.66409861325116, 'Density': 0.33146911677985125} \n",
      "\n",
      "Processing epsilon: 3.0\n",
      "Calculating bandwidth for Student...\n",
      "Bandwidth: 0.09317241379310345\n",
      "Fitting kernel...\n",
      "Loading distances from file ...\n",
      "Max possible distance considered in graph: 2.9998793112770206\n",
      "{'strongly_connected_components': 548, 'weakly_connected_components': 3, 'Percentage_of_connected_nodes': 99.84591679506933, 'Density': 2.0841655728661377} \n",
      "\n",
      "Processing epsilon: 3.6\n",
      "Calculating bandwidth for Student...\n",
      "Bandwidth: 0.09317241379310345\n",
      "Fitting kernel...\n",
      "Loading distances from file ...\n",
      "Max possible distance considered in graph: 3.599950593324361\n",
      "{'strongly_connected_components': 498, 'weakly_connected_components': 3, 'Percentage_of_connected_nodes': 99.84591679506933, 'Density': 5.424299492096103} \n",
      "\n",
      "Processing epsilon: 4.2\n",
      "Calculating bandwidth for Student...\n",
      "Bandwidth: 0.09317241379310345\n",
      "Fitting kernel...\n",
      "Loading distances from file ...\n",
      "Max possible distance considered in graph: 4.199455384258346\n",
      "{'strongly_connected_components': 494, 'weakly_connected_components': 2, 'Percentage_of_connected_nodes': 100.0, 'Density': 6.4936084003880605} \n",
      "\n",
      "Processing epsilon: 4.7\n",
      "Calculating bandwidth for Student...\n",
      "Bandwidth: 0.09317241379310345\n",
      "Fitting kernel...\n",
      "Loading distances from file ...\n",
      "Max possible distance considered in graph: 4.537245086009961\n",
      "{'strongly_connected_components': 494, 'weakly_connected_components': 2, 'Percentage_of_connected_nodes': 100.0, 'Density': 6.515722193688295} \n",
      "\n"
     ]
    }
   ],
   "source": [
    "from main import *\n",
    "from utils import *\n",
    "import math\n",
    "\n",
    "dataset_results = {}\n",
    "\n",
    "tp = 0.6\n",
    "skip_bandwith_calculation=True\n",
    "datasetName = 'Student'\n",
    "\n",
    "data, FEATURE_COLUMNS, TARGET_COLUMNS, numeric_columns, categorical_columns, min_max_scaler, data_df_copy, continuous_featues, one_hot_encode_features = load_dataset(datasetName=datasetName)\n",
    "TEST_SIZE = 0.3\n",
    "\n",
    "X = data[FEATURE_COLUMNS]\n",
    "y = data[TARGET_COLUMNS]\n",
    "\n",
    "data_np = data.to_numpy()\n",
    "attr_col_mapping = {col: i for i, col in enumerate(data.columns)}\n",
    "\n",
    "X = data_np[:, [attr_col_mapping[col] for col in FEATURE_COLUMNS]]\n",
    "if isinstance(TARGET_COLUMNS, str):\n",
    "    y = data_np[:, attr_col_mapping[TARGET_COLUMNS]]\n",
    "else:\n",
    "    y = data_np[:, [attr_col_mapping[col] for col in TARGET_COLUMNS]]\n",
    "\n",
    "X_train, X_test, y_train, y_test = train_test_split(\n",
    "    data[FEATURE_COLUMNS],\n",
    "    data[TARGET_COLUMNS],\n",
    "    test_size=TEST_SIZE,\n",
    "    random_state=utils.random_seed,\n",
    "    shuffle=True\n",
    ")\n",
    "\n",
    "index_mapping_test = {new_index: original_index for new_index, original_index in enumerate(X_test.index)}\n",
    "index_mapping_train = {new_index: original_index for new_index, original_index in enumerate(X_train.index)}\n",
    "\n",
    "X_train_np = X_train.to_numpy()\n",
    "X_test_np = X_test.to_numpy()\n",
    "y_train_np = y_train.to_numpy().reshape(-1, 1)\n",
    "y_test_np = y_test.to_numpy().reshape(-1, 1)\n",
    "\n",
    "data_train = np.concatenate((X_train_np, y_train_np), axis=1)\n",
    "data_test = np.concatenate((X_test_np, y_test_np), axis=1)\n",
    "\n",
    "index_mapping = {new_index: original_index for new_index, original_index in enumerate(X_test.index)}\n",
    "\n",
    "if \"LR_classifier_face_data.pk\" in os.listdir(f\"{FGCE_DIR}{sep}tmp{sep}{datasetName}{sep}\"):\n",
    "        print(\"Loading classifier from file ...\")\n",
    "        clf = pk.load(open(f\"{FGCE_DIR}{sep}tmp{sep}{datasetName}{sep}LR_classifier_face_data.pk\", \"rb\"))\n",
    "else:\n",
    "    clf = LogisticRegression(random_state=utils.random_seed)\n",
    "    clf.fit(X_train, y_train)\n",
    "\n",
    "    print(\"Training accuracy:\", clf.score(X_train, y_train))\n",
    "    print(\"Testing accuracy:\", clf.score(X_test, y_test))\n",
    "\n",
    "    if not os.path.exists(f\"{FGCE_DIR}{sep}tmp{sep}{datasetName}{sep}\"):\n",
    "        os.makedirs(f\"{FGCE_DIR}{sep}tmp{sep}{datasetName}{sep}\")\n",
    "\n",
    "    pk.dump(clf, open(f\"{FGCE_DIR}{sep}tmp{sep}{datasetName}{sep}LR_classifier_face_data.pk\", 'wb'))\n",
    "\n",
    "FN, negative_points, positive_points, FP = utils.get_FN_Negatives_Positives(data_test, clf, tp, attr_col_mapping, FEATURE_COLUMNS, TARGET_COLUMNS, index_mapping)\n",
    "\n",
    "results = {}\n",
    "start=0.1\n",
    "step=0.58\n",
    "\n",
    "e = 0.1\n",
    "if os.path.exists(f\"{FGCE_DIR}{sep}tmp{sep}{datasetName}{sep}Distances.pkl\"):\n",
    "    distances = pk.load(open(f\"{FGCE_DIR}{sep}tmp{sep}{datasetName}{sep}Distances.pkl\", \"rb\"))\n",
    "else:\n",
    "    kernel = Kernel_obj(datasetName, X, skip_bandwith_calculation=skip_bandwith_calculation, bandwith_approch=\"optimal\")\n",
    "    kernel.fitKernel(X)\n",
    "    fgce = FGCE(data_np, X, kernel, FEATURE_COLUMNS, TARGET_COLUMNS, e, clf)\n",
    "    feasibility_constraints = utils.getFeasibilityConstraints(FEATURE_COLUMNS, dataset_name=datasetName)\n",
    "    dng_obj = GraphBuilder(feasibility_constraints, FEATURE_COLUMNS, X, kernel, exclude_columns=True)\n",
    "    distances, graph, densities = dng_obj.compute_pairwise_distances_and_graph_within_subgroups(datasetName, data[FEATURE_COLUMNS], e, feasibility_constraints, None)\n",
    "\n",
    "max_distances_in_the_dataset = math.ceil(np.max(distances))\n",
    "print(f\"Max distance in the dataset: {max_distances_in_the_dataset}\")\n",
    "\n",
    "for e in np.arange(start, max_distances_in_the_dataset, step):\n",
    "    e = round(e, 1)\n",
    "    print(f\"Processing epsilon: {e}\")\n",
    "    if os.path.exists(f\"{FGCE_DIR}{sep}tmp{sep}{datasetName}{sep}Distances.pkl\") and os.path.exists(f\"{FGCE_DIR}{sep}tmp{sep}{datasetName}{sep}Graphs{sep}Graph_{e}.pkl\"):\n",
    "        graph = pk.load(open(f\"{FGCE_DIR}{sep}tmp{sep}{datasetName}{sep}Graphs{sep}Graph_{e}.pkl\", \"rb\"))\n",
    "        kernel = Kernel_obj(datasetName, X, skip_bandwith_calculation=skip_bandwith_calculation, bandwith_approch=\"optimal\")\n",
    "        kernel.fitKernel(X)\n",
    "        fgce = FGCE(data_np, X, kernel, FEATURE_COLUMNS, TARGET_COLUMNS, e, clf)\n",
    "        fgce.set_graph(graph)\n",
    "\n",
    "        print(\"Loading distances from file ...\")\n",
    "        distances = pk.load(open(f\"{FGCE_DIR}{sep}tmp{sep}{datasetName}{sep}Distances.pkl\", \"rb\"))\n",
    "\n",
    "    else:\n",
    "        kernel = Kernel_obj(datasetName, X, skip_bandwith_calculation=skip_bandwith_calculation, bandwith_approch=\"optimal\")\n",
    "        kernel.fitKernel(X)\n",
    "        fgce = FGCE(data_np, X, kernel, FEATURE_COLUMNS, TARGET_COLUMNS, e, clf)\n",
    "        feasibility_constraints = utils.getFeasibilityConstraints(FEATURE_COLUMNS, dataset_name=datasetName)\n",
    "\n",
    "        start_time = time.time()\n",
    "        dng_obj = GraphBuilder(feasibility_constraints, FEATURE_COLUMNS, X, kernel, exclude_columns=True)\n",
    "        distances, graph, densities = dng_obj.compute_pairwise_distances_and_graph_within_subgroups(datasetName, data[FEATURE_COLUMNS], e, feasibility_constraints, None)\n",
    "        end_time = time.time()\n",
    "        execution_time = end_time - start_time\n",
    "        print(\"Distances and graph initialization: \", execution_time, \" seconds\")\n",
    "\n",
    "        if not os.path.exists(f\"{FGCE_DIR}{sep}tmp{sep}{datasetName}{sep}Graphs{sep}\"):\n",
    "            os.makedirs(f\"{FGCE_DIR}{sep}tmp{sep}{datasetName}{sep}Graphs{sep}\")\n",
    "        \n",
    "        if not os.path.exists(f\"{FGCE_DIR}{sep}tmp{sep}{datasetName}{sep}Densities{sep}\"):\n",
    "            os.makedirs(f\"{FGCE_DIR}{sep}tmp{sep}{datasetName}{sep}Densities\")\n",
    "\n",
    "        #  if this file \"f\"{FGCE_DIR}{sep}tmp{sep}{datasetName}{sep}Distances.pkl\"\" does not exist, then save the distances to the file\n",
    "        if not os.path.exists(f\"{FGCE_DIR}{sep}tmp{sep}{datasetName}{sep}Distances.pkl\"):\n",
    "            pk.dump(distances, open(f\"{FGCE_DIR}{sep}tmp{sep}{datasetName}{sep}Distances.pkl\", \"wb\"))\n",
    "\n",
    "        pk.dump(graph, open(f\"{FGCE_DIR}{sep}tmp{sep}{datasetName}{sep}Graphs{sep}Graph_{e}.pkl\", \"wb\"))\n",
    "        pk.dump(densities, open(f\"{FGCE_DIR}{sep}tmp{sep}{datasetName}{sep}Densities{sep}Densities_{e}.pkl\", \"wb\"))\n",
    "\n",
    "    try:\n",
    "        print(f\"Max possible distance considered in graph: {np.max([edge[2]['distance'] for edge in graph.edges(data=True)])}\")\n",
    "    except:\n",
    "        print(f\"Max possible distance considered in graph: {0}\")\n",
    "\n",
    "    strongly_connected_components = list(nx.strongly_connected_components(graph))\n",
    "    weakly_connected_components = list(nx.weakly_connected_components(graph))\n",
    "\n",
    "    connected_nodes = sum(1 for node, degree in graph.degree() if degree > 0)\n",
    "\n",
    "    graph_density = nx.density(graph)\n",
    "\n",
    "    d = {\"strongly_connected_components\": len(strongly_connected_components), \"weakly_connected_components\": len(weakly_connected_components),\n",
    "        \"Percentage_of_connected_nodes\": (connected_nodes/len(X))*100, \"Density\": graph_density * 100}\n",
    "    print(d,\"\\n\")\n",
    "    results[e] = d"
   ]
  },
  {
   "cell_type": "code",
   "execution_count": null,
   "metadata": {},
   "outputs": [
    {
     "name": "stderr",
     "output_type": "stream",
     "text": [
      "/tmp/ipykernel_657554/759583545.py:29: UserWarning: Tight layout not applied. The left and right margins cannot be made large enough to accommodate all Axes decorations.\n",
      "  fig_legend.tight_layout(pad=1.0)\n"
     ]
    },
    {
     "data": {
      "image/png": "[encoded data removed]",
      "text/plain": [
       "<Figure size 700x300 with 1 Axes>"
      ]
     },
     "metadata": {},
     "output_type": "display_data"
    },
    {
     "data": {
      "image/png": "[encoded data removed]",
      "text/plain": [
       "<Figure size 100x100 with 1 Axes>"
      ]
     },
     "metadata": {},
     "output_type": "display_data"
    }
   ],
   "source": [
    "import matplotlib.pyplot as plt\n",
    "\n",
    "epsilons = list(results.keys())\n",
    "strongly_connected_components = [results[k][\"strongly_connected_components\"] for k in epsilons]\n",
    "weakly_connected_components = [results[k][\"weakly_connected_components\"] for k in epsilons]\n",
    "node_connectivity = [results[k][\"Percentage_of_connected_nodes\"] for k in epsilons]\n",
    "edge_connectivity = [results[k][\"Density\"] for k in epsilons]\n",
    "\n",
    "fig, ax = plt.subplots(figsize=(7,3))\n",
    "plt.gcf().set_size_inches(7,3)\n",
    "line1, = ax.plot(epsilons, strongly_connected_components, marker='o', linestyle='-', color='b', label=\"Number of SCC\")\n",
    "line2, = ax.plot(epsilons, weakly_connected_components, marker='s', linestyle='--', color='r', label=\"Number of WCC\")\n",
    "line3, = ax.plot(epsilons, node_connectivity, marker='^', linestyle='-.', color='g', label=\"Connected Nodes (%)\")\n",
    "line4, = ax.plot(epsilons, edge_connectivity, marker='d', linestyle=':', color='purple', label=\"Density (%)\")\n",
    "ax.set_xlabel(\"ε\", fontsize=16)\n",
    "ax.tick_params(axis='both', which='major', labelsize=14)\n",
    "ax.set_yscale('log')\n",
    "ax.set_xticks(epsilons)\n",
    "plt.grid(True)\n",
    "plt.tight_layout()\n",
    "\n",
    "fig.savefig(f\"{FGCE_DIR}{sep}tmp{sep}{datasetName}{sep}figs{sep}{datasetName}_connectivity_plot_no_legend.pdf\")\n",
    "\n",
    "\n",
    "fig_legend = plt.figure(figsize=(1, 1))\n",
    "ax_legend = fig_legend.add_subplot(111)\n",
    "ax_legend.legend([line1, line2, line3, line4], [line.get_label() for line in [line1, line2, line3, line4]], loc='upper center', fontsize=14)\n",
    "ax_legend.axis('off')\n",
    "fig_legend.tight_layout(pad=1.0)\n",
    "fig_legend.savefig(f\"{FGCE_DIR}{sep}tmp{sep}{datasetName}{sep}figs{sep}{datasetName}_legend.pdf\", bbox_inches='tight')\n",
    "plt.show()"
   ]
  },
  {
   "cell_type": "code",
   "execution_count": 4,
   "metadata": {},
   "outputs": [],
   "source": [
    "def filter_subdict(experiment, allowed_subkeys):\n",
    "    result = {}\n",
    "    for key, value in experiment.items():\n",
    "        if isinstance(value, dict):\n",
    "            filtered_subdict = {}\n",
    "            for subkey, subvalue in value.items():\n",
    "                if subkey in allowed_subkeys:\n",
    "                    filtered_subdict[subkey] = subvalue\n",
    "            result[key] = filtered_subdict\n",
    "        else:\n",
    "            result[key] = value\n",
    "    return result\n",
    "\n",
    "\n",
    "allowed_subkeys = [\"Coverage\", \"Avg. distance\", \"Avg. path cost\"]"
   ]
  },
  {
   "cell_type": "code",
   "execution_count": 5,
   "metadata": {},
   "outputs": [
    {
     "data": {
      "text/plain": [
       "2.793"
      ]
     },
     "execution_count": 5,
     "metadata": {},
     "output_type": "execute_result"
    }
   ],
   "source": [
    "lower_limit_range_for_d = 3.99 * (70/100) # 70% of the minimum maximum distance required for full coverage of the dataset from table 2 in the paper\n",
    "lower_limit_range_for_d"
   ]
  },
  {
   "cell_type": "code",
   "execution_count": 6,
   "metadata": {},
   "outputs": [
    {
     "name": "stdout",
     "output_type": "stream",
     "text": [
      "Number of unique features (counting one-hot encoded features only once): 30\n",
      "Max possible distance for these features: 5.477225575051661\n"
     ]
    }
   ],
   "source": [
    "data, FEATURE_COLUMNS, TARGET_COLUMNS, numeric_columns, categorical_columns, min_max_scaler, data_df_copy, continuous_featues, one_hot_encode_features = load_dataset(datasetName=\"Student\")\n",
    "import numpy as np\n",
    "\n",
    "def count_features(features, one_hot_features):\n",
    "    feature_set = set()\n",
    "    for feature in features:\n",
    "        if feature == 'target':\n",
    "            continue\n",
    "        if feature in one_hot_features:\n",
    "            # Extract the prefix to count only once\n",
    "            prefix = feature.split('_')[0]\n",
    "            feature_set.add(prefix)\n",
    "        else:\n",
    "            feature_set.add(feature)\n",
    "    \n",
    "    return len(feature_set)\n",
    "feature_count = count_features(FEATURE_COLUMNS, one_hot_encode_features)\n",
    "print(f\"Number of unique features (counting one-hot encoded features only once): {feature_count}\")\n",
    "\n",
    "max_possible_distance_for_these_features = np.sqrt(feature_count)\n",
    "print(f\"Max possible distance for these features: {max_possible_distance_for_these_features}\")"
   ]
  },
  {
   "cell_type": "code",
   "execution_count": 7,
   "metadata": {},
   "outputs": [
    {
     "name": "stdout",
     "output_type": "stream",
     "text": [
      "Max distance in dataset: 5.477225575051661\n",
      "Step: 0.5\n"
     ]
    }
   ],
   "source": [
    "import math\n",
    "print(f\"Max distance in dataset: {max_possible_distance_for_these_features}\") # from cell 2\n",
    "step = np.round(((max_possible_distance_for_these_features - 0.1) /10), 1)\n",
    "print(f\"Step: {step}\")"
   ]
  },
  {
   "cell_type": "markdown",
   "metadata": {},
   "source": [
    "# AUC metrics"
   ]
  },
  {
   "cell_type": "markdown",
   "metadata": {},
   "source": [
    "### (k) AUC related metrics"
   ]
  },
  {
   "cell_type": "code",
   "execution_count": null,
   "metadata": {},
   "outputs": [],
   "source": [
    "from metrics import *\n",
    "saturation_points, cov_for_saturation_points, auc_matrix = kAUC(\"Student\", 3, 'sex', None, 11, lower_limit_range_for_d, max_possible_distance_for_these_features, step)"
   ]
  },
  {
   "cell_type": "code",
   "execution_count": 9,
   "metadata": {},
   "outputs": [
    {
     "data": {
      "text/plain": [
       "{1: {0.0: 4.293, 1.0: 4.293},\n",
       " 2: {0.0: 3.793, 1.0: 4.293},\n",
       " 3: {0.0: 3.793, 1.0: 4.293},\n",
       " 4: {0.0: 3.293, 1.0: 4.293},\n",
       " 5: {0.0: 3.293, 1.0: 4.293},\n",
       " 6: {0.0: 3.293, 1.0: 4.293},\n",
       " 7: {0.0: 3.293, 1.0: 4.293},\n",
       " 8: {0.0: 3.293, 1.0: 4.293},\n",
       " 9: {0.0: 3.293, 1.0: 4.293},\n",
       " 10: {0.0: 3.293, 1.0: 4.293}}"
      ]
     },
     "execution_count": 9,
     "metadata": {},
     "output_type": "execute_result"
    }
   ],
   "source": [
    "saturation_points"
   ]
  },
  {
   "cell_type": "code",
   "execution_count": 10,
   "metadata": {},
   "outputs": [
    {
     "data": {
      "text/plain": [
       "{1: {0.0: 81.81818181818183, 1.0: 100.0},\n",
       " 2: {0.0: 100.0, 1.0: 100.0},\n",
       " 3: {0.0: 100.0, 1.0: 100.0},\n",
       " 4: {0.0: 100.0, 1.0: 100.0},\n",
       " 5: {0.0: 100.0, 1.0: 100.0},\n",
       " 6: {0.0: 100.0, 1.0: 100.0},\n",
       " 7: {0.0: 100.0, 1.0: 100.0},\n",
       " 8: {0.0: 100.0, 1.0: 100.0},\n",
       " 9: {0.0: 100.0, 1.0: 100.0},\n",
       " 10: {0.0: 100.0, 1.0: 100.0}}"
      ]
     },
     "execution_count": 10,
     "metadata": {},
     "output_type": "execute_result"
    }
   ],
   "source": [
    "cov_for_saturation_points"
   ]
  },
  {
   "cell_type": "code",
   "execution_count": 11,
   "metadata": {},
   "outputs": [
    {
     "data": {
      "text/plain": [
       "{1: {0.0: 0.66, 1.0: 0.9},\n",
       " 2: {0.0: 0.87, 1.0: 0.92},\n",
       " 3: {0.0: 0.92, 1.0: 0.93},\n",
       " 4: {0.0: 0.95, 1.0: 0.94},\n",
       " 5: {0.0: 0.95, 1.0: 0.94},\n",
       " 6: {0.0: 0.95, 1.0: 0.94},\n",
       " 7: {0.0: 0.95, 1.0: 0.94},\n",
       " 8: {0.0: 0.95, 1.0: 0.94},\n",
       " 9: {0.0: 0.95, 1.0: 0.94},\n",
       " 10: {0.0: 0.95, 1.0: 0.94}}"
      ]
     },
     "execution_count": 11,
     "metadata": {},
     "output_type": "execute_result"
    }
   ],
   "source": [
    "auc_matrix"
   ]
  },
  {
   "cell_type": "markdown",
   "metadata": {},
   "source": [
    "### Running Other AUC-Related Metrics\n",
    "\n",
    "To compute the `dAUC` and `cAUC` metrics for the Student dataset or any other dataset, follow a similar approach as demonstrated with the `kAUC` metric.\n",
    "\n",
    "Simply adjust the `datasetName`, `epsilon`,  and other parameters as needed to apply these metrics to different datasets."
   ]
  },
  {
   "cell_type": "markdown",
   "metadata": {},
   "source": [
    "# Testing for different Classifiers"
   ]
  },
  {
   "cell_type": "code",
   "execution_count": null,
   "metadata": {},
   "outputs": [],
   "source": [
    "results = main_cost_constrained_GCFEs(epsilon=3, tp=0.6, td=0.001, datasetName='Student', group_identifier='sex',\n",
    "                            skip_model_training=False, skip_graph_creation=False, skip_gcfe_calculation=False,\n",
    "                            max_d = 5, cost_function = \"max_vector_distance\", k=2, k_selection_method=\"greedy_accross_all_ccs\")[0]"
   ]
  },
  {
   "cell_type": "code",
   "execution_count": null,
   "metadata": {},
   "outputs": [],
   "source": [
    "results = main_cost_constrained_GCFEs(epsilon=3, tp=0.6, td=0.001, datasetName='Student', group_identifier='sex',\n",
    "                            skip_model_training=True, skip_graph_creation=True, skip_gcfe_calculation=False,\n",
    "                            classifier='xgb', max_d = 3, cost_function = \"max_vector_distance\",  k=2, k_selection_method=\"greedy_accross_all_ccs\")[0]"
   ]
  },
  {
   "cell_type": "code",
   "execution_count": null,
   "metadata": {},
   "outputs": [],
   "source": [
    "results = main_cost_constrained_GCFEs(epsilon=3, tp=0.6, td=0.001, datasetName='Student', group_identifier='sex',\n",
    "                            skip_model_training=True, skip_graph_creation=True, skip_gcfe_calculation=False,\n",
    "                            classifier='dnn', max_d = 3, cost_function = \"max_vector_distance\", k=2, k_selection_method=\"greedy_accross_all_ccs\")[0]"
   ]
  },
  {
   "cell_type": "markdown",
   "metadata": {},
   "source": [
    "# Graph Structure and aWWCs for selected e"
   ]
  },
  {
   "cell_type": "code",
   "execution_count": 17,
   "metadata": {},
   "outputs": [
    {
     "name": "stdout",
     "output_type": "stream",
     "text": [
      "Strongly connected components: 548\n",
      "Weakly connected components: 3\n"
     ]
    }
   ],
   "source": [
    "import networkx as nx\n",
    "import pickle\n",
    "\n",
    "\n",
    "with open(f\"{FGCE_DIR}{sep}tmp{sep}Student{sep}Graphs{sep}Graph_3.pkl\", \"rb\") as file:\n",
    "    graph = pickle.load(file)\n",
    "\n",
    "strongly_connected_components = list(nx.strongly_connected_components(graph))\n",
    "weakly_connected_components = list(nx.weakly_connected_components(graph))\n",
    "\n",
    "print(\"Strongly connected components:\", len(strongly_connected_components))\n",
    "print(\"Weakly connected components:\", len(weakly_connected_components))\n",
    "\n",
    "with open(f\"{FGCE_DIR}{sep}tmp{sep}Student{sep}cost_constrained_GCFEs{sep}results_Student_eps3_tp0.6_k_2_cost_function_max_vector_distance_d_5_kmethod_greedy_accross_all_ccs.json\", \"r\") as file:\n",
    "    results = json.load(file)    "
   ]
  },
  {
   "cell_type": "code",
   "execution_count": 18,
   "metadata": {},
   "outputs": [
    {
     "data": {
      "image/png": "[encoded data removed]",
      "text/plain": [
       "<Figure size 576x432 with 1 Axes>"
      ]
     },
     "metadata": {
      "needs_background": "light"
     },
     "output_type": "display_data"
    }
   ],
   "source": [
    "import matplotlib.pyplot as plt\n",
    "bar_width = 50\n",
    "\n",
    "fig, ax = plt.subplots(figsize=(12, 8))\n",
    "\n",
    "stats = results['Graph Stats']['0.0']\n",
    "aWCCs = set()\n",
    "r0 = results['0.0']\n",
    "\n",
    "for fn in r0:\n",
    "    if fn in ['Coverage', 'Avg. distance', 'Avg. path cost', 'Median distance', 'Median path cost']:\n",
    "        continue\n",
    "    aWCCs.add(f\"{r0[fn]['cfe_cc']}\")\n",
    "\n",
    "cc_names = [cc for cc in stats if cc.isdigit()]\n",
    "num_cc = len(cc_names)\n",
    "\n",
    "bar_width = 0.4\n",
    "bar_gap = 0.5\n",
    "\n",
    "center_poss = []\n",
    "labels_added = {'positives': False, 'false_negatives': False}\n",
    "\n",
    "for j, cc in enumerate(cc_names):\n",
    "    if cc not in aWCCs:\n",
    "        continue\n",
    "    positives = stats[cc]['positives']\n",
    "    false_negatives = stats[cc]['false_negatives']\n",
    "\n",
    "    center_pos = j * (2 * bar_width + bar_gap)  \n",
    "    r1 = center_pos - bar_width / 2  \n",
    "    r2 = center_pos + bar_width / 2  \n",
    "\n",
    "    if not labels_added['false_negatives']:\n",
    "        ax.bar(r1, false_negatives, color='r', width=bar_width, edgecolor='grey', label='X')\n",
    "        labels_added['false_negatives'] = True\n",
    "    else:\n",
    "        ax.bar(r1, false_negatives, color='r', width=bar_width, edgecolor='grey')\n",
    "\n",
    "    if not labels_added['positives']:\n",
    "        ax.bar(r2, positives, color='b', width=bar_width, edgecolor='grey', label=\"X '\")\n",
    "        labels_added['positives'] = True\n",
    "    else:\n",
    "        ax.bar(r2, positives, color='b', width=bar_width, edgecolor='grey')\n",
    "\n",
    "    center_poss.append((r1 + r2) / 2)\n",
    "\n",
    "ax.set_xticks([])\n",
    "\n",
    "ax.tick_params(axis='x', labelsize=22)\n",
    "ax.tick_params(axis='y', labelsize=22)\n",
    "\n",
    "ax.set_xlabel(f'Group 0', fontsize=22, fontfamily='serif')\n",
    "ax.set_ylabel('Instances', fontsize=22, fontfamily='serif')\n",
    "\n",
    "ax.legend()\n",
    "ax.grid(True)\n",
    "\n",
    "ax.legend(fontsize=22)\n",
    "fig_size = (8, 6)\n",
    "plt.gcf().set_size_inches(fig_size)\n",
    "\n",
    "plt.tight_layout()\n",
    "plt.show()\n",
    "\n",
    "fig.savefig(f\"{FGCE_DIR}{sep}tmp{sep}Compas{sep}figs{sep}ccs_positives_false_negatives_g0.pdf\")\n"
   ]
  },
  {
   "cell_type": "code",
   "execution_count": 19,
   "metadata": {},
   "outputs": [
    {
     "data": {
      "image/png": "[encoded data removed]",
      "text/plain": [
       "<Figure size 576x432 with 1 Axes>"
      ]
     },
     "metadata": {
      "needs_background": "light"
     },
     "output_type": "display_data"
    }
   ],
   "source": [
    "import matplotlib.pyplot as plt\n",
    "bar_width = 50\n",
    "\n",
    "fig, ax = plt.subplots(figsize=(12, 8))\n",
    "\n",
    "stats = results['Graph Stats']['1.0']\n",
    "aWCCs = set()\n",
    "r0 = results['1.0']\n",
    "\n",
    "for fn in r0:\n",
    "    if fn in ['Coverage', 'Avg. distance', 'Avg. path cost', 'Median distance', 'Median path cost']:\n",
    "        continue\n",
    "    aWCCs.add(f\"{r0[fn]['cfe_cc']}\")\n",
    "\n",
    "cc_names = [cc for cc in stats if cc.isdigit()]\n",
    "num_cc = len(cc_names)\n",
    "\n",
    "bar_width = 0.4\n",
    "bar_gap = 0.5\n",
    "\n",
    "center_poss = []\n",
    "labels_added = {'positives': False, 'false_negatives': False}\n",
    "\n",
    "for j, cc in enumerate(cc_names):\n",
    "    if cc not in aWCCs:\n",
    "        continue\n",
    "    positives = stats[cc]['positives']\n",
    "    false_negatives = stats[cc]['false_negatives']\n",
    "\n",
    "    center_pos = j * (2 * bar_width + bar_gap)  \n",
    "    r1 = center_pos - bar_width / 2  \n",
    "    r2 = center_pos + bar_width / 2  \n",
    "\n",
    "    if not labels_added['false_negatives']:\n",
    "        ax.bar(r1, false_negatives, color='r', width=bar_width, edgecolor='grey', label='X')\n",
    "        labels_added['false_negatives'] = True\n",
    "    else:\n",
    "        ax.bar(r1, false_negatives, color='r', width=bar_width, edgecolor='grey')\n",
    "\n",
    "    if not labels_added['positives']:\n",
    "        ax.bar(r2, positives, color='b', width=bar_width, edgecolor='grey', label=\"X '\")\n",
    "        labels_added['positives'] = True\n",
    "    else:\n",
    "        ax.bar(r2, positives, color='b', width=bar_width, edgecolor='grey')\n",
    "\n",
    "    center_poss.append((r1 + r2) / 2)\n",
    "\n",
    "ax.set_xticks([])\n",
    "\n",
    "ax.tick_params(axis='x', labelsize=22)\n",
    "ax.tick_params(axis='y', labelsize=22)\n",
    "\n",
    "ax.set_xlabel(f'Group 1', fontsize=22, fontfamily='serif')\n",
    "ax.set_ylabel('Instances', fontsize=22, fontfamily='serif')\n",
    "\n",
    "ax.legend()\n",
    "ax.grid(True)\n",
    "\n",
    "ax.legend(fontsize=22)\n",
    "fig_size = (8, 6)\n",
    "plt.gcf().set_size_inches(fig_size)\n",
    "\n",
    "plt.tight_layout()\n",
    "plt.show()\n",
    "\n",
    "fig.savefig(f\"{FGCE_DIR}{sep}tmp{sep}Compas{sep}figs{sep}ccs_positives_false_negatives_g1.pdf\")"
   ]
  }
 ],
 "metadata": {
  "kernelspec": {
   "display_name": "Python 3",
   "language": "python",
   "name": "python3"
  },
  "language_info": {
   "codemirror_mode": {
    "name": "ipython",
    "version": 3
   },
   "file_extension": ".py",
   "mimetype": "text/x-python",
   "name": "python",
   "nbconvert_exporter": "python",
   "pygments_lexer": "ipython3",
   "version": "3.10.12"
  }
 },
 "nbformat": 4,
 "nbformat_minor": 2
}
